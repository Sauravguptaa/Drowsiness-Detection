{
 "cells": [
  {
   "cell_type": "code",
   "execution_count": 1,
   "metadata": {},
   "outputs": [
    {
     "data": {
      "text/plain": [
       "'2.9.1'"
      ]
     },
     "execution_count": 1,
     "metadata": {},
     "output_type": "execute_result"
    }
   ],
   "source": [
    "import tensorflow as tf\n",
    "from keras.preprocessing.image import ImageDataGenerator\n",
    "tf.__version__\n"
   ]
  },
  {
   "cell_type": "code",
   "execution_count": 2,
   "metadata": {},
   "outputs": [
    {
     "name": "stdout",
     "output_type": "stream",
     "text": [
      "Found 605 images belonging to 2 classes.\n"
     ]
    }
   ],
   "source": [
    "train_datagen = ImageDataGenerator(rescale = 1./255,\n",
    "                                   shear_range = 0.2,\n",
    "                                   zoom_range = 0.2,\n",
    "                                   horizontal_flip = True)\n",
    "training_set = train_datagen.flow_from_directory('C:\\\\Users\\\\Saurav\\\\OneDrive\\\\Desktop\\\\minor_project\\\\yawn_dataset\\\\train',\n",
    "                                                 target_size = (64, 64),\n",
    "                                                 batch_size = 32,\n",
    "                                                 class_mode = 'binary',\n",
    "                                                 color_mode='grayscale')"
   ]
  },
  {
   "cell_type": "code",
   "execution_count": 3,
   "metadata": {},
   "outputs": [
    {
     "name": "stdout",
     "output_type": "stream",
     "text": [
      "Found 94 images belonging to 2 classes.\n"
     ]
    }
   ],
   "source": [
    "test_datagen = ImageDataGenerator(rescale = 1./255)\n",
    "test_set = test_datagen.flow_from_directory('C:\\\\Users\\\\Saurav\\\\OneDrive\\\\Desktop\\\\minor_project\\\\yawn_dataset\\\\test',\n",
    "                                            target_size = (64, 64),\n",
    "                                            batch_size = 32,\n",
    "                                            class_mode = 'binary',\n",
    "                                            color_mode='grayscale')"
   ]
  },
  {
   "cell_type": "code",
   "execution_count": 4,
   "metadata": {},
   "outputs": [],
   "source": [
    "cnn = tf.keras.models.Sequential()"
   ]
  },
  {
   "cell_type": "code",
   "execution_count": 5,
   "metadata": {},
   "outputs": [],
   "source": [
    "cnn.add(tf.keras.layers.Conv2D(filters=64 , kernel_size=3, activation='relu', input_shape=[64, 64, 1]))\n",
    "cnn.add(tf.keras.layers.MaxPool2D(pool_size=2, strides=2))\n",
    "cnn.add(tf.keras.layers.Conv2D(filters=64, kernel_size=3, activation='relu'))\n",
    "cnn.add(tf.keras.layers.MaxPool2D(pool_size=2, strides=2))\n",
    "cnn.add(tf.keras.layers.Conv2D(filters=64, kernel_size=3, activation='relu'))\n",
    "cnn.add(tf.keras.layers.MaxPool2D(pool_size=2, strides=2))\n"
   ]
  },
  {
   "cell_type": "code",
   "execution_count": 6,
   "metadata": {},
   "outputs": [],
   "source": [
    "cnn.add(tf.keras.layers.Flatten())"
   ]
  },
  {
   "cell_type": "code",
   "execution_count": 7,
   "metadata": {},
   "outputs": [],
   "source": [
    "cnn.add(tf.keras.layers.Dropout(0.5))"
   ]
  },
  {
   "cell_type": "code",
   "execution_count": 8,
   "metadata": {},
   "outputs": [],
   "source": [
    "cnn.add(tf.keras.layers.Dense(units=256, activation='relu'))"
   ]
  },
  {
   "cell_type": "code",
   "execution_count": 9,
   "metadata": {},
   "outputs": [],
   "source": [
    "cnn.add(tf.keras.layers.Dropout(0.5))"
   ]
  },
  {
   "cell_type": "code",
   "execution_count": 10,
   "metadata": {},
   "outputs": [],
   "source": [
    "cnn.add(tf.keras.layers.Dense(units=128, activation='relu'))"
   ]
  },
  {
   "cell_type": "code",
   "execution_count": 11,
   "metadata": {},
   "outputs": [],
   "source": [
    "cnn.add(tf.keras.layers.Dropout(0.5))"
   ]
  },
  {
   "cell_type": "code",
   "execution_count": 12,
   "metadata": {},
   "outputs": [],
   "source": [
    "cnn.add(tf.keras.layers.Dense(units=1, activation='sigmoid'))"
   ]
  },
  {
   "cell_type": "code",
   "execution_count": 13,
   "metadata": {},
   "outputs": [],
   "source": [
    "cnn.compile(optimizer = 'adam', loss = 'binary_crossentropy', metrics = ['accuracy'])"
   ]
  },
  {
   "cell_type": "code",
   "execution_count": 14,
   "metadata": {},
   "outputs": [
    {
     "name": "stdout",
     "output_type": "stream",
     "text": [
      "Epoch 1/25\n",
      "19/19 [==============================] - 13s 631ms/step - loss: 0.6961 - accuracy: 0.5322 - val_loss: 0.6805 - val_accuracy: 0.7021\n",
      "Epoch 2/25\n",
      "19/19 [==============================] - 6s 310ms/step - loss: 0.6465 - accuracy: 0.6463 - val_loss: 0.4607 - val_accuracy: 0.7872\n",
      "Epoch 3/25\n",
      "19/19 [==============================] - 5s 256ms/step - loss: 0.5205 - accuracy: 0.7455 - val_loss: 0.4043 - val_accuracy: 0.8511\n",
      "Epoch 4/25\n",
      "19/19 [==============================] - 5s 244ms/step - loss: 0.4068 - accuracy: 0.8248 - val_loss: 0.2452 - val_accuracy: 0.8830\n",
      "Epoch 5/25\n",
      "19/19 [==============================] - 5s 250ms/step - loss: 0.3646 - accuracy: 0.8463 - val_loss: 0.2483 - val_accuracy: 0.8723\n",
      "Epoch 6/25\n",
      "19/19 [==============================] - 4s 229ms/step - loss: 0.3338 - accuracy: 0.8727 - val_loss: 0.3392 - val_accuracy: 0.8511\n",
      "Epoch 7/25\n",
      "19/19 [==============================] - 5s 261ms/step - loss: 0.3265 - accuracy: 0.8595 - val_loss: 0.1647 - val_accuracy: 0.9468\n",
      "Epoch 8/25\n",
      "19/19 [==============================] - 4s 233ms/step - loss: 0.2789 - accuracy: 0.8992 - val_loss: 0.1405 - val_accuracy: 0.9468\n",
      "Epoch 9/25\n",
      "19/19 [==============================] - 5s 237ms/step - loss: 0.2293 - accuracy: 0.9190 - val_loss: 0.0996 - val_accuracy: 0.9681\n",
      "Epoch 10/25\n",
      "19/19 [==============================] - 5s 244ms/step - loss: 0.1999 - accuracy: 0.9372 - val_loss: 0.0927 - val_accuracy: 0.9787\n",
      "Epoch 11/25\n",
      "19/19 [==============================] - 5s 240ms/step - loss: 0.2370 - accuracy: 0.9207 - val_loss: 0.1145 - val_accuracy: 0.9681\n",
      "Epoch 12/25\n",
      "19/19 [==============================] - 5s 251ms/step - loss: 0.2070 - accuracy: 0.9355 - val_loss: 0.0912 - val_accuracy: 0.9787\n",
      "Epoch 13/25\n",
      "19/19 [==============================] - 5s 240ms/step - loss: 0.1956 - accuracy: 0.9322 - val_loss: 0.0791 - val_accuracy: 0.9681\n",
      "Epoch 14/25\n",
      "19/19 [==============================] - 5s 254ms/step - loss: 0.1507 - accuracy: 0.9554 - val_loss: 0.0659 - val_accuracy: 0.9574\n",
      "Epoch 15/25\n",
      "19/19 [==============================] - 5s 265ms/step - loss: 0.1320 - accuracy: 0.9603 - val_loss: 0.0275 - val_accuracy: 1.0000\n",
      "Epoch 16/25\n",
      "19/19 [==============================] - 5s 246ms/step - loss: 0.1363 - accuracy: 0.9587 - val_loss: 0.0335 - val_accuracy: 0.9894\n",
      "Epoch 17/25\n",
      "19/19 [==============================] - 5s 250ms/step - loss: 0.1461 - accuracy: 0.9471 - val_loss: 0.0657 - val_accuracy: 0.9787\n",
      "Epoch 18/25\n",
      "19/19 [==============================] - 5s 245ms/step - loss: 0.1586 - accuracy: 0.9537 - val_loss: 0.0793 - val_accuracy: 0.9681\n",
      "Epoch 19/25\n",
      "19/19 [==============================] - 5s 262ms/step - loss: 0.1276 - accuracy: 0.9603 - val_loss: 0.0153 - val_accuracy: 1.0000\n",
      "Epoch 20/25\n",
      "19/19 [==============================] - 5s 253ms/step - loss: 0.1337 - accuracy: 0.9603 - val_loss: 0.0097 - val_accuracy: 1.0000\n",
      "Epoch 21/25\n",
      "19/19 [==============================] - 5s 241ms/step - loss: 0.1310 - accuracy: 0.9636 - val_loss: 0.0586 - val_accuracy: 0.9787\n",
      "Epoch 22/25\n",
      "19/19 [==============================] - 5s 237ms/step - loss: 0.1066 - accuracy: 0.9653 - val_loss: 0.0423 - val_accuracy: 0.9894\n",
      "Epoch 23/25\n",
      "19/19 [==============================] - 5s 236ms/step - loss: 0.1123 - accuracy: 0.9653 - val_loss: 0.0273 - val_accuracy: 0.9894\n",
      "Epoch 24/25\n",
      "19/19 [==============================] - 5s 239ms/step - loss: 0.0881 - accuracy: 0.9653 - val_loss: 0.0371 - val_accuracy: 0.9894\n",
      "Epoch 25/25\n",
      "19/19 [==============================] - 5s 246ms/step - loss: 0.1251 - accuracy: 0.9620 - val_loss: 0.0383 - val_accuracy: 1.0000\n"
     ]
    }
   ],
   "source": [
    "history = cnn.fit(x = training_set, validation_data = test_set, epochs = 25)"
   ]
  },
  {
   "cell_type": "code",
   "execution_count": 15,
   "metadata": {},
   "outputs": [
    {
     "data": {
      "image/png": "[encoded data removed]",
      "text/plain": [
       "<Figure size 432x288 with 1 Axes>"
      ]
     },
     "metadata": {
      "needs_background": "light"
     },
     "output_type": "display_data"
    }
   ],
   "source": [
    "import matplotlib.pyplot as plt\n",
    "plt.plot(history.history['accuracy'])\n",
    "plt.plot(history.history['val_accuracy'])\n",
    "plt.title('model accuracy')\n",
    "plt.ylabel('accuracy')\n",
    "plt.xlabel('epoch')\n",
    "plt.legend(['train', 'test'], loc='upper left')\n",
    "plt.show()"
   ]
  },
  {
   "cell_type": "code",
   "execution_count": 16,
   "metadata": {},
   "outputs": [
    {
     "data": {
      "image/png": "[encoded data removed]",
      "text/plain": [
       "<Figure size 432x288 with 1 Axes>"
      ]
     },
     "metadata": {
      "needs_background": "light"
     },
     "output_type": "display_data"
    }
   ],
   "source": [
    "plt.plot(history.history['loss'])\n",
    "plt.plot(history.history['val_loss'])\n",
    "plt.title('model loss')\n",
    "plt.ylabel('loss')\n",
    "plt.xlabel('epoch')\n",
    "plt.legend(['train', 'test'], loc='upper left')\n",
    "plt.show()"
   ]
  },
  {
   "cell_type": "code",
   "execution_count": 17,
   "metadata": {},
   "outputs": [
    {
     "name": "stdout",
     "output_type": "stream",
     "text": [
      "You must install pydot (`pip install pydot`) and install graphviz (see instructions at https://graphviz.gitlab.io/download/) for plot_model/model_to_dot to work.\n"
     ]
    }
   ],
   "source": [
    "\n",
    "tf.keras.utils.plot_model(cnn, to_file='cnny_model.png', show_shapes=True)"
   ]
  },
  {
   "cell_type": "code",
   "execution_count": 56,
   "metadata": {},
   "outputs": [
    {
     "name": "stdout",
     "output_type": "stream",
     "text": [
      "0.9923463\n"
     ]
    }
   ],
   "source": [
    "import cv2\n",
    "import numpy as np\n",
    "img = cv2.imread('C:\\project\\yawn.jpg')\n",
    "img = cv2.cvtColor(img, cv2.COLOR_BGR2GRAY)\n",
    "face = cv2.CascadeClassifier('C:\\Minorproject\\DrowsinessDetection\\haar cascade files\\haarcascade_frontalface_alt.xml')\n",
    "faces = face.detectMultiScale(img,minNeighbors=5,scaleFactor=1.05,minSize=(10,10))\n",
    "for (x, y, w, h) in faces:\n",
    "    img = img[y:y+h, x:x+w]\n",
    "img = cv2.resize(img, (64, 64))\n",
    "img = img/255\n",
    "img = img.reshape(64, 64, 1)\n",
    "img = np.expand_dims(img, axis = 0)\n",
    "predict_r=cnn.predict(img)\n",
    "rpred = predict_r[0][0]\n",
    "print(rpred)\n",
    "\n"
   ]
  },
  {
   "cell_type": "code",
   "execution_count": 18,
   "metadata": {},
   "outputs": [],
   "source": [
    "cnn.save('C:\\\\Users\\\\Saurav\\\\OneDrive\\\\Desktop\\\\minor_project\\\\DrowsinessDetection\\\\models\\\\yawnmodel.h5', overwrite= True)"
   ]
  }
 ],
 "metadata": {
  "kernelspec": {
   "display_name": "Python 3.9.7 ('base')",
   "language": "python",
   "name": "python3"
  },
  "language_info": {
   "codemirror_mode": {
    "name": "ipython",
    "version": 3
   },
   "file_extension": ".py",
   "mimetype": "text/x-python",
   "name": "python",
   "nbconvert_exporter": "python",
   "pygments_lexer": "ipython3",
   "version": "3.9.7"
  },
  "orig_nbformat": 4,
  "vscode": {
   "interpreter": {
    "hash": "2f19b1f994074a188b9c6a8a2351123e854df7afe0c85c913d25eae22f0e8fa1"
   }
  }
 },
 "nbformat": 4,
 "nbformat_minor": 2
}
