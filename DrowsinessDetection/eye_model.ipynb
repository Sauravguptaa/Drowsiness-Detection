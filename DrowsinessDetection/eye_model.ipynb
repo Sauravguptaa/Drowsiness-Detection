{
 "cells": [
  {
   "cell_type": "code",
   "execution_count": 2,
   "metadata": {},
   "outputs": [
    {
     "data": {
      "text/plain": [
       "'2.9.1'"
      ]
     },
     "execution_count": 2,
     "metadata": {},
     "output_type": "execute_result"
    }
   ],
   "source": [
    "import tensorflow as tf\n",
    "from keras.preprocessing.image import ImageDataGenerator\n",
    "tf.__version__\n"
   ]
  },
  {
   "cell_type": "code",
   "execution_count": 3,
   "metadata": {},
   "outputs": [
    {
     "name": "stdout",
     "output_type": "stream",
     "text": [
      "Found 1232 images belonging to 2 classes.\n"
     ]
    }
   ],
   "source": [
    "train_datagen = ImageDataGenerator(rescale = 1./255,\n",
    "                                   shear_range = 0.2,\n",
    "                                   zoom_range = 0.2,\n",
    "                                   horizontal_flip = True)\n",
    "training_set = train_datagen.flow_from_directory('C:\\\\Users\\\\Saurav\\\\OneDrive\\\\Desktop\\\\minor_project\\\\eye_dataset\\\\train',\n",
    "                                                 target_size = (24, 24),\n",
    "                                                 batch_size = 32,\n",
    "                                                 class_mode = 'binary',\n",
    "                                                 color_mode='grayscale')"
   ]
  },
  {
   "cell_type": "code",
   "execution_count": 4,
   "metadata": {},
   "outputs": [
    {
     "name": "stdout",
     "output_type": "stream",
     "text": [
      "Found 217 images belonging to 2 classes.\n"
     ]
    }
   ],
   "source": [
    "test_datagen = ImageDataGenerator(rescale = 1./255)\n",
    "test_set = test_datagen.flow_from_directory('C:\\\\Users\\\\Saurav\\\\OneDrive\\\\Desktop\\\\minor_project\\\\eye_dataset\\\\test',\n",
    "                                            target_size = (24, 24),\n",
    "                                            batch_size = 32,\n",
    "                                            class_mode = 'binary',\n",
    "                                            color_mode='grayscale')"
   ]
  },
  {
   "cell_type": "code",
   "execution_count": 5,
   "metadata": {},
   "outputs": [],
   "source": [
    "cnn = tf.keras.models.Sequential()"
   ]
  },
  {
   "cell_type": "code",
   "execution_count": 6,
   "metadata": {},
   "outputs": [],
   "source": [
    "cnn.add(tf.keras.layers.Conv2D(filters=32, kernel_size=3, activation='relu', input_shape=[24, 24, 1]))\n",
    "cnn.add(tf.keras.layers.MaxPool2D(pool_size=2, strides=2))\n",
    "\n",
    "cnn.add(tf.keras.layers.Conv2D(filters=32, kernel_size=3, activation='relu',padding='same'))\n",
    "cnn.add(tf.keras.layers.MaxPool2D(pool_size=2, strides=2))\n",
    "\n"
   ]
  },
  {
   "cell_type": "code",
   "execution_count": 7,
   "metadata": {},
   "outputs": [],
   "source": [
    "cnn.add(tf.keras.layers.Flatten())"
   ]
  },
  {
   "cell_type": "code",
   "execution_count": 8,
   "metadata": {},
   "outputs": [],
   "source": [
    "cnn.add(tf.keras.layers.Dense(units=128, activation='relu'))"
   ]
  },
  {
   "cell_type": "code",
   "execution_count": 9,
   "metadata": {},
   "outputs": [],
   "source": [
    "cnn.add(tf.keras.layers.Dropout(0.5))"
   ]
  },
  {
   "cell_type": "code",
   "execution_count": 10,
   "metadata": {},
   "outputs": [],
   "source": [
    "cnn.add(tf.keras.layers.Dense(units=1, activation='sigmoid'))"
   ]
  },
  {
   "cell_type": "code",
   "execution_count": 11,
   "metadata": {},
   "outputs": [],
   "source": [
    "cnn.compile(optimizer = 'adam', loss = 'binary_crossentropy', metrics = ['accuracy'])"
   ]
  },
  {
   "cell_type": "code",
   "execution_count": 12,
   "metadata": {},
   "outputs": [
    {
     "name": "stdout",
     "output_type": "stream",
     "text": [
      "Epoch 1/30\n",
      "39/39 [==============================] - 18s 439ms/step - loss: 0.6579 - accuracy: 0.6502 - val_loss: 0.5072 - val_accuracy: 0.9124\n",
      "Epoch 2/30\n",
      "39/39 [==============================] - 7s 172ms/step - loss: 0.3855 - accuracy: 0.8685 - val_loss: 0.2061 - val_accuracy: 0.9217\n",
      "Epoch 3/30\n",
      "39/39 [==============================] - 7s 170ms/step - loss: 0.2674 - accuracy: 0.9018 - val_loss: 0.1743 - val_accuracy: 0.9309\n",
      "Epoch 4/30\n",
      "39/39 [==============================] - 7s 184ms/step - loss: 0.2166 - accuracy: 0.9229 - val_loss: 0.1548 - val_accuracy: 0.9447\n",
      "Epoch 5/30\n",
      "39/39 [==============================] - 7s 176ms/step - loss: 0.1739 - accuracy: 0.9334 - val_loss: 0.1612 - val_accuracy: 0.9585\n",
      "Epoch 6/30\n",
      "39/39 [==============================] - 7s 186ms/step - loss: 0.1560 - accuracy: 0.9399 - val_loss: 0.1546 - val_accuracy: 0.9539\n",
      "Epoch 7/30\n",
      "39/39 [==============================] - 7s 179ms/step - loss: 0.1411 - accuracy: 0.9456 - val_loss: 0.1312 - val_accuracy: 0.9401\n",
      "Epoch 8/30\n",
      "39/39 [==============================] - 7s 169ms/step - loss: 0.1318 - accuracy: 0.9448 - val_loss: 0.1214 - val_accuracy: 0.9539\n",
      "Epoch 9/30\n",
      "39/39 [==============================] - 7s 170ms/step - loss: 0.1093 - accuracy: 0.9586 - val_loss: 0.1203 - val_accuracy: 0.9585\n",
      "Epoch 10/30\n",
      "39/39 [==============================] - 7s 177ms/step - loss: 0.0931 - accuracy: 0.9659 - val_loss: 0.1443 - val_accuracy: 0.9539\n",
      "Epoch 11/30\n",
      "39/39 [==============================] - 8s 204ms/step - loss: 0.0991 - accuracy: 0.9619 - val_loss: 0.1065 - val_accuracy: 0.9539\n",
      "Epoch 12/30\n",
      "39/39 [==============================] - 7s 167ms/step - loss: 0.0888 - accuracy: 0.9667 - val_loss: 0.1193 - val_accuracy: 0.9585\n",
      "Epoch 13/30\n",
      "39/39 [==============================] - 12s 304ms/step - loss: 0.0860 - accuracy: 0.9643 - val_loss: 0.0959 - val_accuracy: 0.9631\n",
      "Epoch 14/30\n",
      "39/39 [==============================] - 6s 158ms/step - loss: 0.0770 - accuracy: 0.9700 - val_loss: 0.1113 - val_accuracy: 0.9585\n",
      "Epoch 15/30\n",
      "39/39 [==============================] - 6s 163ms/step - loss: 0.0712 - accuracy: 0.9716 - val_loss: 0.0998 - val_accuracy: 0.9585\n",
      "Epoch 16/30\n",
      "39/39 [==============================] - 7s 176ms/step - loss: 0.0682 - accuracy: 0.9732 - val_loss: 0.0935 - val_accuracy: 0.9585\n",
      "Epoch 17/30\n",
      "39/39 [==============================] - 7s 166ms/step - loss: 0.0591 - accuracy: 0.9789 - val_loss: 0.0849 - val_accuracy: 0.9770\n",
      "Epoch 18/30\n",
      "39/39 [==============================] - 6s 159ms/step - loss: 0.0644 - accuracy: 0.9748 - val_loss: 0.1268 - val_accuracy: 0.9585\n",
      "Epoch 19/30\n",
      "39/39 [==============================] - 6s 161ms/step - loss: 0.0609 - accuracy: 0.9748 - val_loss: 0.0942 - val_accuracy: 0.9631\n",
      "Epoch 20/30\n",
      "39/39 [==============================] - 6s 158ms/step - loss: 0.0551 - accuracy: 0.9797 - val_loss: 0.0994 - val_accuracy: 0.9677\n",
      "Epoch 21/30\n",
      "39/39 [==============================] - 6s 156ms/step - loss: 0.0466 - accuracy: 0.9846 - val_loss: 0.0939 - val_accuracy: 0.9724\n",
      "Epoch 22/30\n",
      "39/39 [==============================] - 6s 156ms/step - loss: 0.0573 - accuracy: 0.9781 - val_loss: 0.1306 - val_accuracy: 0.9539\n",
      "Epoch 23/30\n",
      "39/39 [==============================] - 6s 161ms/step - loss: 0.0629 - accuracy: 0.9724 - val_loss: 0.1005 - val_accuracy: 0.9631\n",
      "Epoch 24/30\n",
      "39/39 [==============================] - 7s 170ms/step - loss: 0.0528 - accuracy: 0.9838 - val_loss: 0.0745 - val_accuracy: 0.9724\n",
      "Epoch 25/30\n",
      "39/39 [==============================] - 8s 200ms/step - loss: 0.0525 - accuracy: 0.9830 - val_loss: 0.0873 - val_accuracy: 0.9631\n",
      "Epoch 26/30\n",
      "39/39 [==============================] - 7s 188ms/step - loss: 0.0429 - accuracy: 0.9870 - val_loss: 0.1112 - val_accuracy: 0.9585\n",
      "Epoch 27/30\n",
      "39/39 [==============================] - 7s 186ms/step - loss: 0.0397 - accuracy: 0.9878 - val_loss: 0.0880 - val_accuracy: 0.9585\n",
      "Epoch 28/30\n",
      "39/39 [==============================] - 7s 184ms/step - loss: 0.0423 - accuracy: 0.9862 - val_loss: 0.0780 - val_accuracy: 0.9677\n",
      "Epoch 29/30\n",
      "39/39 [==============================] - 7s 186ms/step - loss: 0.0515 - accuracy: 0.9756 - val_loss: 0.0575 - val_accuracy: 0.9724\n",
      "Epoch 30/30\n",
      "39/39 [==============================] - 7s 180ms/step - loss: 0.0419 - accuracy: 0.9821 - val_loss: 0.1047 - val_accuracy: 0.9631\n"
     ]
    }
   ],
   "source": [
    "history = cnn.fit(x = training_set, validation_data = test_set, epochs = 30)"
   ]
  },
  {
   "cell_type": "code",
   "execution_count": 13,
   "metadata": {},
   "outputs": [
    {
     "data": {
      "image/png": "[encoded data removed]",
      "text/plain": [
       "<Figure size 432x288 with 1 Axes>"
      ]
     },
     "metadata": {
      "needs_background": "light"
     },
     "output_type": "display_data"
    }
   ],
   "source": [
    "import matplotlib.pyplot as plt\n",
    "plt.plot(history.history['accuracy'])\n",
    "plt.plot(history.history['val_accuracy'])\n",
    "plt.title('model accuracy')\n",
    "plt.ylabel('accuracy')\n",
    "plt.xlabel('epoch')\n",
    "plt.legend(['train', 'test'], loc='upper left')\n",
    "plt.show()"
   ]
  },
  {
   "cell_type": "code",
   "execution_count": 14,
   "metadata": {},
   "outputs": [
    {
     "data": {
      "image/png": "[encoded data removed]",
      "text/plain": [
       "<Figure size 432x288 with 1 Axes>"
      ]
     },
     "metadata": {
      "needs_background": "light"
     },
     "output_type": "display_data"
    }
   ],
   "source": [
    "plt.plot(history.history['loss'])\n",
    "plt.plot(history.history['val_loss'])\n",
    "plt.title('model loss')\n",
    "plt.ylabel('loss')\n",
    "plt.xlabel('epoch')\n",
    "plt.legend(['train', 'test'], loc='upper left')\n",
    "plt.show()"
   ]
  },
  {
   "cell_type": "code",
   "execution_count": 15,
   "metadata": {},
   "outputs": [
    {
     "name": "stdout",
     "output_type": "stream",
     "text": [
      "You must install pydot (`pip install pydot`) and install graphviz (see instructions at https://graphviz.gitlab.io/download/) for plot_model/model_to_dot to work.\n"
     ]
    }
   ],
   "source": [
    "tf.keras.utils.plot_model(cnn, to_file='cnn_model.png', show_shapes=True)"
   ]
  },
  {
   "cell_type": "code",
   "execution_count": 17,
   "metadata": {},
   "outputs": [],
   "source": [
    "cnn.save('C:\\\\Users\\\\Saurav\\\\OneDrive\\\\Desktop\\\\minor_project\\\\DrowsinessDetection\\\\models\\\\eyemodel.h5')"
   ]
  }
 ],
 "metadata": {
  "kernelspec": {
   "display_name": "Python 3.9.7 ('base')",
   "language": "python",
   "name": "python3"
  },
  "language_info": {
   "codemirror_mode": {
    "name": "ipython",
    "version": 3
   },
   "file_extension": ".py",
   "mimetype": "text/x-python",
   "name": "python",
   "nbconvert_exporter": "python",
   "pygments_lexer": "ipython3",
   "version": "3.9.7"
  },
  "orig_nbformat": 4,
  "vscode": {
   "interpreter": {
    "hash": "2f19b1f994074a188b9c6a8a2351123e854df7afe0c85c913d25eae22f0e8fa1"
   }
  }
 },
 "nbformat": 4,
 "nbformat_minor": 2
}
